{
 "cells": [
  {
   "cell_type": "markdown",
   "metadata": {},
   "source": [
    "## Nexjs Fundamentals\n",
    "*What is Nextjs ?*\n",
    "\n",
    "**Nextjs** is a framework for building fast,full-stack and search-engine friendly applications.\n",
    "\n",
    "In terms of tooling, it includes: \n",
    "* Compiler - transforming and minifying javascript code\n",
    "* CLI - building and starting our application\n",
    "* Nodejs runtime - for running backend code : this enables full stack dev\n",
    "\n",
    "**Exercise:** \n",
    "* What is tooling ?\n",
    "* why do we have to transform and minify js-code?"
   ]
  },
  {
   "cell_type": "markdown",
   "metadata": {},
   "source": [
    "### Nextjs Main Features\n",
    "* Routing\n",
    "* Rendering\n",
    "* Data Fetching\n",
    "* Styling\n",
    "* Optimizations"
   ]
  },
  {
   "cell_type": "markdown",
   "metadata": {},
   "source": [
    "### RENDERING: CSR VS SSR\n",
    "#### CSR\n",
    "**Pros** - opposite for SSR\n",
    "* Access to browser API - storage\n",
    "* State management\n",
    "* use effect\n",
    "* listen to browser effects\n",
    "\n",
    "**Cons** - but pros for SSR\n",
    "* Large bundles - since rendering is done by the browser, larger bundels leads to ---\n",
    "* Resource intensive\n",
    "* no SEO - since search engine bots cannot read javascript \n",
    "* less secure - exposes app secrets such as API keys\n"
   ]
  },
  {
   "cell_type": "markdown",
   "metadata": {},
   "source": [
    "## Data Fetching\n"
   ]
  },
  {
   "cell_type": "code",
   "execution_count": null,
   "metadata": {
    "vscode": {
     "languageId": "plaintext"
    }
   },
   "outputs": [],
   "source": [
    "import Link from \"next/link\";\n",
    "\n",
    "interface User {\n",
    "  id: number;\n",
    "  name: string;\n",
    "}\n",
    "\n",
    "const Users = async () => {\n",
    "  const res = await fetch(\"https://jsonplaceholder.typicode.com/users\");\n",
    "  const users: User[] = await res.json();\n",
    "\n",
    "  return (\n",
    "    <>\n",
    "      <div>Users</div>\n",
    "      <ul>\n",
    "        {users.map(user => <li key={user.id}>{user.name}</li> )}\n",
    "      </ul>\n",
    "      <Link href={\"/users/userdetail\"}>user detail</Link>\n",
    "    </>\n",
    "  );\n",
    "};\n",
    "export default Users;\n"
   ]
  },
  {
   "cell_type": "markdown",
   "metadata": {},
   "source": [
    "#### CACHING \n",
    "**Caching** is storing data somewhere that's easier to access.\n",
    "\n",
    "fetch results are automatically cached by Nextjs  -- with the exception of : \n",
    "* fetch used in route handler - POST method\n",
    "* fetch in a server action "
   ]
  },
  {
   "cell_type": "code",
   "execution_count": null,
   "metadata": {
    "vscode": {
     "languageId": "plaintext"
    }
   },
   "outputs": [],
   "source": [
    " const res = await fetch(\"https://jsonplaceholder.typicode.com/users\", {\n",
    "    cache: 'no-cache', // disabling caching\n",
    "  });"
   ]
  },
  {
   "cell_type": "markdown",
   "metadata": {},
   "source": [
    "#### RENDERING\n",
    "**Static** --- at build time\n",
    "\n",
    "**Dynamic** --- at request time"
   ]
  }
 ],
 "metadata": {
  "language_info": {
   "name": "python"
  }
 },
 "nbformat": 4,
 "nbformat_minor": 2
}
