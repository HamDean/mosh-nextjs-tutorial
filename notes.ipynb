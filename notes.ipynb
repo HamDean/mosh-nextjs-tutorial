{
 "cells": [
  {
   "cell_type": "markdown",
   "metadata": {},
   "source": [
    "## Nexjs Fundamentals\n",
    "*What is Nextjs ?*\n",
    "\n",
    "**Nextjs** is a framework for building fast,full-stack and search-engine friendly applications.\n",
    "\n",
    "In terms of tooling, it includes: \n",
    "* Compiler - transforming and minifying javascript code\n",
    "* CLI - building and starting our application\n",
    "* Nodejs runtime - for running backend code : this enables full stack dev\n",
    "\n",
    "**Exercise:** \n",
    "* What is tooling ?\n",
    "* why do we have to transform and minify js-code?"
   ]
  },
  {
   "cell_type": "markdown",
   "metadata": {},
   "source": [
    "### Nextjs Main Features\n",
    "* Routing\n",
    "* Rendering\n",
    "* Data Fetching\n",
    "* Styling\n",
    "* Optimizations"
   ]
  },
  {
   "cell_type": "markdown",
   "metadata": {},
   "source": [
    "### RENDERING: CSR VS SSR\n",
    "#### CSR\n",
    "**Pros** - opposite for SSR\n",
    "* Access to browser API - storage\n",
    "* State management\n",
    "* use effect\n",
    "* listen to browser effects\n",
    "\n",
    "**Cons** - but pros for SSR\n",
    "* Large bundles - since rendering is done by the browser, larger bundels leads to ---\n",
    "* Resource intensive\n",
    "* no SEO - since search engine bots cannot read javascript \n",
    "* less secure - exposes app secrets such as API keys\n"
   ]
  }
 ],
 "metadata": {
  "language_info": {
   "name": "python"
  }
 },
 "nbformat": 4,
 "nbformat_minor": 2
}
