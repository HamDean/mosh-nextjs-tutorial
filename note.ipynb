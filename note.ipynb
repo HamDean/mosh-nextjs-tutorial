{
 "cells": [
  {
   "cell_type": "markdown",
   "metadata": {},
   "source": [
    "## Nexjs Fundamentalst\n",
    "*What is Nextjs ?*\n",
    "\n",
    "*Nextjs* is a framework for building fast and search-engine friendly applications.\n",
    "\n",
    "In terms of tooling, it includes: \n",
    "* Compiler - transforming and minifying javascript code\n",
    "* CLI - building and starting our application\n",
    "* Nodejs runtime - for running backend code : this enables full stack dev\n",
    "\n",
    "Exercise: \n",
    "* What is tooling ?\n",
    "* why do we have to transform and minify js-code?"
   ]
  },
  {
   "cell_type": "code",
   "execution_count": null,
   "metadata": {},
   "outputs": [],
   "source": []
  }
 ],
 "metadata": {
  "language_info": {
   "name": "python"
  }
 },
 "nbformat": 4,
 "nbformat_minor": 2
}
